{
 "cells": [
  {
   "cell_type": "markdown",
   "metadata": {},
   "source": [
    "# Data Structures\n",
    "Data structures are basically just that - they are structures which can hold some data together. In other words, they are used to store a collection of related data. \n",
    "Data structures in Python - \n",
    "array,\n",
    "list,\n",
    "tuple,\n",
    "dictionary,\n",
    "set,\n",
    "file,\n",
    "stack,\n",
    "queue,\n",
    "graph,trees\n"
   ]
  },
  {
   "cell_type": "markdown",
   "metadata": {},
   "source": [
    "## 1.Array\n",
    "In Python, arrays are supported by the array module and need to be imported before you start inititalizing and using them.Array stores same types of data. The elements stored in an array are constrained in their data type. The data type is specififed during the array creation and specified using a type code, which is a single character like the I you see in the example below:"
   ]
  },
  {
   "cell_type": "code",
   "execution_count": 34,
   "metadata": {},
   "outputs": [
    {
     "name": "stdout",
     "output_type": "stream",
     "text": [
      "array('I', [3, 6, 9])\n"
     ]
    }
   ],
   "source": [
    "import array as arr\n",
    "a = arr.array(\"I\",[3,6,9])\n",
    "type(a)\n",
    "print(a)"
   ]
  },
  {
   "cell_type": "code",
   "execution_count": 33,
   "metadata": {},
   "outputs": [
    {
     "name": "stdout",
     "output_type": "stream",
     "text": [
      "['Ford', 'Volvo', 'BMW']\n"
     ]
    }
   ],
   "source": [
    "cars = [\"Ford\", \"Volvo\", \"BMW\"]\n",
    "print(cars)"
   ]
  },
  {
   "cell_type": "markdown",
   "metadata": {},
   "source": [
    "## 2.List\n",
    "Lists in Python are used to store collection of heterogeneous items. These are mutable, which means that you can change their content without changing their identity. You can recognize lists by their square brackets [ and ] that hold elements, separated by a comma ,. Lists are built into Python: you do not need to invoke them separately."
   ]
  },
  {
   "cell_type": "code",
   "execution_count": 20,
   "metadata": {},
   "outputs": [
    {
     "name": "stdout",
     "output_type": "stream",
     "text": [
      "[]\n",
      "[1, 2, 3]\n",
      "apple\n"
     ]
    }
   ],
   "source": [
    "x = [] # Empty list\n",
    "print (x)\n",
    "\n",
    "x1 = [1,2,3]\n",
    "print (x1)\n",
    "\n",
    "x2 = list([1,'apple',3])\n",
    "print(x2[1])"
   ]
  },
  {
   "cell_type": "markdown",
   "metadata": {},
   "source": [
    "you can use methods such as: append(),remove(),insert() on list"
   ]
  },
  {
   "cell_type": "markdown",
   "metadata": {},
   "source": [
    "## 3.Stacks\n",
    "A stack is a container of objects that are inserted and removed according to the Last-In-First-Out (LIFO) concept.\n",
    "Stacks can be implemented using lists in Python. When you add elements to a stack, it is known as a push operation, whereas when you remove or delete an element it is called a pop operation.\n",
    "Think of a scenario where at a dinner party where there is a stack of plates, plates are always added or removed from the top of the pile. "
   ]
  },
  {
   "cell_type": "code",
   "execution_count": 21,
   "metadata": {},
   "outputs": [
    {
     "name": "stdout",
     "output_type": "stream",
     "text": [
      "[1, 2, 3, 4, 5, 6]\n",
      "[1, 2, 3, 4]\n"
     ]
    }
   ],
   "source": [
    "# Bottom -> 1 -> 2 -> 3 -> 4 -> 5 (Top)\n",
    "stack = [1,2,3,4,5] \n",
    "stack.append(6) # Bottom -> 1 -> 2 -> 3 -> 4 -> 5 -> 6 (Top)\n",
    "print(stack)\n",
    "\n",
    "stack.pop() # Bottom -> 1 -> 2 -> 3 -> 4 -> 5 (Top)\n",
    "stack.pop() # Bottom -> 1 -> 2 -> 3 -> 4 (Top)\n",
    "print(stack)"
   ]
  },
  {
   "cell_type": "markdown",
   "metadata": {},
   "source": [
    "## 4.Queue\n",
    "A queue is a container of objects that are inserted and removed according to the First-In-First-Out (FIFO) principle.\n",
    "An excellent example of a queue in the real world is the line at a ticket counter where people are catered according to their arrival sequence and hence the person who arrives first is also the first to leave. Queues can be of many different kinds."
   ]
  },
  {
   "cell_type": "code",
   "execution_count": 22,
   "metadata": {},
   "outputs": [
    {
     "name": "stdout",
     "output_type": "stream",
     "text": [
      "Initial queue\n",
      "['a', 'b', 'c']\n",
      "\n",
      "Elements dequeued from queue\n",
      "a\n",
      "b\n",
      "c\n",
      "\n",
      "Queue after removing elements\n",
      "[]\n"
     ]
    }
   ],
   "source": [
    "# Python program to \n",
    "# demonstrate queue implementation \n",
    "# using list \n",
    "\n",
    "# Initializing a queue \n",
    "queue = [] \n",
    "\n",
    "# Adding elements to the queue \n",
    "queue.append('a') \n",
    "queue.append('b') \n",
    "queue.append('c') \n",
    "\n",
    "print(\"Initial queue\") \n",
    "print(queue) \n",
    "\n",
    "# Removing elements from the queue \n",
    "print(\"\\nElements dequeued from queue\") \n",
    "print(queue.pop(0)) \n",
    "print(queue.pop(0)) \n",
    "print(queue.pop(0)) \n",
    "\n",
    "print(\"\\nQueue after removing elements\") \n",
    "print(queue) \n",
    "\n",
    "# Uncommenting print(queue.pop(0)) \n",
    "# will raise and IndexError \n",
    "# as the queue is now empty \n"
   ]
  },
  {
   "cell_type": "markdown",
   "metadata": {},
   "source": [
    "## 5.Graphs\n",
    "A graph in mathematics and computer science are networks consisting of nodes, also called vertices which may or may not be connected to each other. The lines or the path that connects two nodes is called an edge. If the edge has a particular direction of flow, then it is a directed graph, with the direction edge being called an arc. Else if no directions are specified, the graph is called an undirected graph.\n",
    " Social networks, molecular studies in chemistry and biology, maps, recommender system all rely on graph and graph theory principles."
   ]
  },
  {
   "cell_type": "code",
   "execution_count": 23,
   "metadata": {},
   "outputs": [
    {
     "name": "stdout",
     "output_type": "stream",
     "text": [
      "[('a', 'c'), ('a', 'd'), ('b', 'd'), ('b', 'e'), ('c', 'a'), ('c', 'e'), ('d', 'a'), ('d', 'b'), ('e', 'b'), ('e', 'c')]\n"
     ]
    }
   ],
   "source": [
    "graph = { \"a\" : [\"c\", \"d\"],\n",
    "          \"b\" : [\"d\", \"e\"],\n",
    "          \"c\" : [\"a\", \"e\"],\n",
    "          \"d\" : [\"a\", \"b\"],\n",
    "          \"e\" : [\"b\", \"c\"]\n",
    "        }\n",
    "\n",
    "def define_edges(graph):\n",
    "    edges = []\n",
    "    for vertices in graph:\n",
    "        for neighbour in graph[vertices]:\n",
    "            edges.append((vertices, neighbour))\n",
    "    return edges\n",
    "\n",
    "print(define_edges(graph))"
   ]
  },
  {
   "cell_type": "markdown",
   "metadata": {},
   "source": [
    "## 6.Trees\n",
    "A tree in the real world is a living being with its roots in the ground and the branches that hold the leaves, fruit out in the open. The branches of the tree spread out in a somewhat organized way. In computer science, trees are used to describe how data is sometimes organized, except that the root is on the top and the branches, leaves follow, spreading towards the bottom and the tree is drawn inverted compared to the real tree.\n",
    "The root is always at the top of the tree.\n",
    "The other nodes that follow are called the branches with the final node in each branch being called leaves. \n",
    "The root is often called the parent and the nodes that it refers to below it called its children.\n",
    "The nodes with the same parent are called siblings. \n",
    "Trees help in defining real world scenarios and are used everywhere from the gaming world to designing XML parsers and also the PDF design principle is based on trees."
   ]
  },
  {
   "cell_type": "code",
   "execution_count": 24,
   "metadata": {},
   "outputs": [
    {
     "name": "stdout",
     "output_type": "stream",
     "text": [
      "1, Left child: 2, Left child: 2.1, Right child: 2.2, Right child: 3, Left child: 3.1, Right child: None\n"
     ]
    }
   ],
   "source": [
    "class Tree:\n",
    "    def __init__(self, info, left=None, right=None):\n",
    "        self.info = info\n",
    "        self.left  = left\n",
    "        self.right = right\n",
    "\n",
    "    def __str__(self):\n",
    "        return (str(self.info) + ', Left child: ' + str(self.left) + ', Right child: ' + str(self.right))\n",
    "\n",
    "tree = Tree(1, Tree(2, 2.1, 2.2), Tree(3, 3.1))\n",
    "print(tree)"
   ]
  },
  {
   "cell_type": "markdown",
   "metadata": {},
   "source": [
    "## 7.Tuples\n",
    "Tuples are another standard sequence data type. The difference between tuples and list is that tuples are immutable, which means once defined you cannot delete, add or edit any values inside it. This might be useful in situations where you might to pass the control to someone else but you do not want them to manipulate data in your collection, but rather maybe just see them or perform operations separately in a copy of the data."
   ]
  },
  {
   "cell_type": "code",
   "execution_count": 25,
   "metadata": {},
   "outputs": [
    {
     "data": {
      "text/plain": [
       "1"
      ]
     },
     "execution_count": 25,
     "metadata": {},
     "output_type": "execute_result"
    }
   ],
   "source": [
    "x_tuple = 1,2,3,4,5\n",
    "y_tuple = ('c','a','k','e')\n",
    "x_tuple[0]"
   ]
  },
  {
   "cell_type": "code",
   "execution_count": 26,
   "metadata": {},
   "outputs": [
    {
     "data": {
      "text/plain": [
       "'e'"
      ]
     },
     "execution_count": 26,
     "metadata": {},
     "output_type": "execute_result"
    }
   ],
   "source": [
    "y_tuple[3]"
   ]
  },
  {
   "cell_type": "code",
   "execution_count": 27,
   "metadata": {},
   "outputs": [
    {
     "ename": "TypeError",
     "evalue": "'tuple' object does not support item assignment",
     "output_type": "error",
     "traceback": [
      "\u001b[1;31m---------------------------------------------------------------------------\u001b[0m",
      "\u001b[1;31mTypeError\u001b[0m                                 Traceback (most recent call last)",
      "\u001b[1;32m<ipython-input-27-406433138108>\u001b[0m in \u001b[0;36m<module>\u001b[1;34m\u001b[0m\n\u001b[1;32m----> 1\u001b[1;33m \u001b[0mx_tuple\u001b[0m\u001b[1;33m[\u001b[0m\u001b[1;36m0\u001b[0m\u001b[1;33m]\u001b[0m \u001b[1;33m=\u001b[0m \u001b[1;36m0\u001b[0m \u001b[1;31m# Cannot change values inside a tuple\u001b[0m\u001b[1;33m\u001b[0m\u001b[1;33m\u001b[0m\u001b[0m\n\u001b[0m",
      "\u001b[1;31mTypeError\u001b[0m: 'tuple' object does not support item assignment"
     ]
    }
   ],
   "source": [
    "x_tuple[0] = 0 # Cannot change values inside a tuple"
   ]
  },
  {
   "cell_type": "markdown",
   "metadata": {},
   "source": [
    "## 8.Dictionary\n",
    "Dictionaries are exactly what you need if you want to implement something similar to a telephone book. None of the data structures that you have seen before are suitable for a telephone book.\n",
    "This is when a dictionary can come in handy. Dictionaries are made up of key-value pairs. key is used to identify the item and the value holds as the name suggests, the value of the item."
   ]
  },
  {
   "cell_type": "code",
   "execution_count": 28,
   "metadata": {},
   "outputs": [
    {
     "data": {
      "text/plain": [
       "{'Edward': 1, 'Jorge': 2, 'Prem': 3}"
      ]
     },
     "execution_count": 28,
     "metadata": {},
     "output_type": "execute_result"
    }
   ],
   "source": [
    "x_dict = {'Edward':1, 'Jorge':2, 'Prem':3, 'Joe':4}\n",
    "del x_dict['Joe']\n",
    "x_dict"
   ]
  },
  {
   "cell_type": "code",
   "execution_count": 29,
   "metadata": {},
   "outputs": [
    {
     "data": {
      "text/plain": [
       "1"
      ]
     },
     "execution_count": 29,
     "metadata": {},
     "output_type": "execute_result"
    }
   ],
   "source": [
    "x_dict['Edward'] # Prints the value stored with the key 'Edward'."
   ]
  },
  {
   "cell_type": "markdown",
   "metadata": {},
   "source": [
    "## 9.Sets\n",
    "Sets are a collection of distinct (unique) objects. These are useful to create lists that only hold unique values in the dataset. It is an unordered collection but a mutable one, this is very helpful when going through a huge dataset."
   ]
  },
  {
   "cell_type": "code",
   "execution_count": 30,
   "metadata": {},
   "outputs": [
    {
     "name": "stdout",
     "output_type": "stream",
     "text": [
      "{'A', 'O', 'E', 'K', 'C', '&'}\n"
     ]
    }
   ],
   "source": [
    "x_set = set('CAKE&COKE')\n",
    "y_set = set('COOKIE')\n",
    "print(x_set)"
   ]
  },
  {
   "cell_type": "code",
   "execution_count": 31,
   "metadata": {},
   "outputs": [
    {
     "name": "stdout",
     "output_type": "stream",
     "text": [
      "{'O', 'I', 'K', 'C', 'E'}\n"
     ]
    }
   ],
   "source": [
    "print(y_set) # Single unique 'o'"
   ]
  },
  {
   "cell_type": "code",
   "execution_count": 32,
   "metadata": {},
   "outputs": [
    {
     "name": "stdout",
     "output_type": "stream",
     "text": [
      "{'A', '&'}\n"
     ]
    }
   ],
   "source": [
    "print(x_set - y_set) # All the elements in x_set but not in y_set"
   ]
  },
  {
   "cell_type": "code",
   "execution_count": 16,
   "metadata": {},
   "outputs": [
    {
     "name": "stdout",
     "output_type": "stream",
     "text": [
      "{'K', 'C', 'E', 'O'}\n"
     ]
    }
   ],
   "source": [
    "print(x_set & y_set) # Elements in both x_set and y_set"
   ]
  },
  {
   "cell_type": "markdown",
   "metadata": {},
   "source": [
    "## 10.Files\n",
    "Files are traditionally a part of data structures. And although big data is commonplace in the data science industry, a programming language without the capability to store and retrieve previously stored information would hardly be useful.\n",
    "\n",
    "Some of the basic functions that will help you to work with files using Python:\n",
    "\n",
    "open() to open files in your system, the filename is the name of the file to be opened;\n",
    "\n",
    "read() to read entire files;\n",
    "\n",
    "readline() to read one line at a time;\n",
    "\n",
    "write() to write a string to a file, and return the number of characters written;\n",
    "\n",
    "close() to close the file."
   ]
  },
  {
   "cell_type": "code",
   "execution_count": null,
   "metadata": {},
   "outputs": [],
   "source": [
    "# File modes (2nd argument): 'r'(read), 'w'(write), 'a'(appending), 'r+'(both reading and writing)\n",
    "f = open('C:/Users/hp/Desktop/new.txt', 'w')\n",
    "\n",
    "# Reads entire file\n",
    "print(f.read())\n",
    "# Reads one line at a time\n",
    "f.readline() \n",
    "\n",
    "# Writes the string to the file, returning the number of char written\n",
    "f.write('Add this line.') \n",
    "\n",
    "f.close()"
   ]
  },
  {
   "cell_type": "code",
   "execution_count": null,
   "metadata": {},
   "outputs": [],
   "source": []
  }
 ],
 "metadata": {
  "kernelspec": {
   "display_name": "Python 3",
   "language": "python",
   "name": "python3"
  },
  "language_info": {
   "codemirror_mode": {
    "name": "ipython",
    "version": 3
   },
   "file_extension": ".py",
   "mimetype": "text/x-python",
   "name": "python",
   "nbconvert_exporter": "python",
   "pygments_lexer": "ipython3",
   "version": "3.6.10"
  }
 },
 "nbformat": 4,
 "nbformat_minor": 4
}
