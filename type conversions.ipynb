{
 "cells": [
  {
   "cell_type": "markdown",
   "metadata": {},
   "source": [
    "# Type Conversion"
   ]
  },
  {
   "cell_type": "markdown",
   "metadata": {},
   "source": [
    "## What is type conversion Python?\n",
    "Type Conversion is the conversion of object from one data type to another data type. Implicit Type Conversion is automatically performed by the Python interpreter.Explicit Type Conversion is also called Type Casting, the data types of object are converted using predefined function by user."
   ]
  },
  {
   "cell_type": "markdown",
   "metadata": {},
   "source": [
    "## How do I convert one data type to another in python?\n",
    "1. int(a,base) : This function converts any data type to integer. ‘Base’ specifies the base in which string is if data type is string.\n",
    "\n",
    "2. float() : This function is used to convert any data type to a floating point number"
   ]
  },
  {
   "cell_type": "code",
   "execution_count": 5,
   "metadata": {},
   "outputs": [
    {
     "name": "stdout",
     "output_type": "stream",
     "text": [
      "After converting to integer base 2 : 18\n",
      "After converting to float : 10010.0\n"
     ]
    }
   ],
   "source": [
    "# Python code to demonstrate Type conversion \n",
    "# using int(), float() \n",
    "\n",
    "# initializing string \n",
    "s = \"10010\"\n",
    "\n",
    "# printing string converting to int base 2 \n",
    "c = int(s,2) \n",
    "print (\"After converting to integer base 2 : \", end=\"\") \n",
    "print (c) \n",
    "\n",
    "# printing string converting to float \n",
    "e = float(s) \n",
    "print (\"After converting to float : \", end=\"\") \n",
    "print (e) \n"
   ]
  },
  {
   "cell_type": "markdown",
   "metadata": {},
   "source": [
    "3. ord() : This function is used to convert a character to integer.\n",
    "\n",
    "4. hex() : This function is to convert integer to hexadecimal string.\n",
    "\n",
    "5. oct() : This function is to convert integer to octal string."
   ]
  },
  {
   "cell_type": "code",
   "execution_count": 2,
   "metadata": {},
   "outputs": [
    {
     "name": "stdout",
     "output_type": "stream",
     "text": [
      "After converting character to integer : 52\n",
      "After converting 56 to hexadecimal string : 0x38\n",
      "After converting 56 to octal string : 0o70\n"
     ]
    }
   ],
   "source": [
    "# Python code to demonstrate Type conversion \n",
    "# using ord(), hex(), oct() \n",
    "\n",
    "# initializing integer \n",
    "s = '4'\n",
    "\n",
    "# printing character converting to integer \n",
    "c = ord(s) \n",
    "print (\"After converting character to integer : \",end=\"\") \n",
    "print (c) \n",
    "\n",
    "# printing integer converting to hexadecimal string \n",
    "c = hex(56) \n",
    "print (\"After converting 56 to hexadecimal string : \",end=\"\") \n",
    "print (c) \n",
    "\n",
    "# printing integer converting to octal string \n",
    "c = oct(56) \n",
    "print (\"After converting 56 to octal string : \",end=\"\") \n",
    "print (c) \n"
   ]
  },
  {
   "cell_type": "markdown",
   "metadata": {},
   "source": [
    "6. tuple() : This function is used to convert to a tuple.\n",
    "\n",
    "7. set() : This function returns the type after converting to set.\n",
    "\n",
    "8. list() : This function is used to convert any data type to a list type."
   ]
  },
  {
   "cell_type": "code",
   "execution_count": 3,
   "metadata": {},
   "outputs": [
    {
     "name": "stdout",
     "output_type": "stream",
     "text": [
      "After converting string to tuple : ('g', 'e', 'e', 'k', 's')\n",
      "After converting string to set : {'s', 'e', 'g', 'k'}\n",
      "After converting string to list : ['g', 'e', 'e', 'k', 's']\n"
     ]
    }
   ],
   "source": [
    "# Python code to demonstrate Type conversion \n",
    "# using tuple(), set(), list() \n",
    "\n",
    "# initializing string \n",
    "s = 'geeks'\n",
    "\n",
    "# printing string converting to tuple \n",
    "c = tuple(s) \n",
    "print (\"After converting string to tuple : \",end=\"\") \n",
    "print (c) \n",
    "\n",
    "# printing string converting to set \n",
    "c = set(s) \n",
    "print (\"After converting string to set : \",end=\"\") \n",
    "print (c) \n",
    "\n",
    "# printing string converting to list \n",
    "c = list(s) \n",
    "print (\"After converting string to list : \",end=\"\") \n",
    "print (c) \n"
   ]
  },
  {
   "cell_type": "markdown",
   "metadata": {},
   "source": [
    "9. dict() : This function is used to convert a tuple of order (key,value) into a dictionary.\n",
    "\n",
    "10. str() : Used to convert integer into a string.\n",
    "\n",
    "11. complex(real,imag) : : This function converts real numbers to complex(real,imag) number."
   ]
  },
  {
   "cell_type": "code",
   "execution_count": 4,
   "metadata": {},
   "outputs": [
    {
     "name": "stdout",
     "output_type": "stream",
     "text": [
      "After converting integer to complex number : (1+2j)\n",
      "After converting integer to string : 1\n",
      "After converting tuple to dictionary : {'a': 1, 'f': 2, 'g': 3}\n"
     ]
    }
   ],
   "source": [
    "# Python code to demonstrate Type conversion \n",
    "# using dict(), complex(), str() \n",
    "\n",
    "# initializing integers \n",
    "a = 1\n",
    "b = 2\n",
    "\n",
    "# initializing tuple \n",
    "tup = (('a', 1) ,('f', 2), ('g', 3)) \n",
    "\n",
    "# printing integer converting to complex number \n",
    "c = complex(1,2) \n",
    "print (\"After converting integer to complex number : \",end=\"\") \n",
    "print (c) \n",
    "\n",
    "# printing integer converting to string \n",
    "c = str(a) \n",
    "print (\"After converting integer to string : \",end=\"\") \n",
    "print (c) \n",
    "\n",
    "# printing tuple converting to expression dictionary \n",
    "c = dict(tup) \n",
    "print (\"After converting tuple to dictionary : \",end=\"\") \n",
    "print (c) \n"
   ]
  },
  {
   "cell_type": "markdown",
   "metadata": {},
   "source": [
    "## Different types of type conversions\n",
    "The process of converting a Python data type into another data type is known as type conversion. There are mainly two types of type conversion methods in Python, namely, implicit type conversion and explicit type conversion"
   ]
  },
  {
   "cell_type": "markdown",
   "metadata": {},
   "source": [
    "## What is implicit type conversion?\n",
    "Implicit type conversion is an automatic type conversion done by the compiler whenever data from different types is intermixed. ... When an implicit conversion is done, it is not just a reinterpretation of the expression's value but a conversion of that value to an equivalent value in the new type."
   ]
  },
  {
   "cell_type": "markdown",
   "metadata": {},
   "source": [
    "## What is data type conversion?\n",
    "In these languages, conversion refers to either implicitly or explicitly changing a value from one data type storage format to another, e.g. a 16-bit integer to a 32-bit integer. The storage needs may change as a result of the conversion, including a possible loss of precision or truncation."
   ]
  },
  {
   "cell_type": "markdown",
   "metadata": {},
   "source": [
    "## How do you convert a string to an integer in Python?\n",
    "Strings can be converted to numbers by using the int() and float() methods. If your string does not have decimal places, you'll most likely want to convert it to an integer by using the int() method"
   ]
  },
  {
   "cell_type": "code",
   "execution_count": null,
   "metadata": {},
   "outputs": [],
   "source": []
  }
 ],
 "metadata": {
  "kernelspec": {
   "display_name": "Python 3",
   "language": "python",
   "name": "python3"
  },
  "language_info": {
   "codemirror_mode": {
    "name": "ipython",
    "version": 3
   },
   "file_extension": ".py",
   "mimetype": "text/x-python",
   "name": "python",
   "nbconvert_exporter": "python",
   "pygments_lexer": "ipython3",
   "version": "3.6.10"
  }
 },
 "nbformat": 4,
 "nbformat_minor": 4
}
