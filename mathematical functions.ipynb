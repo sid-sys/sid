{
 "cells": [
  {
   "cell_type": "markdown",
   "metadata": {},
   "source": [
    "# Mathematical Functions"
   ]
  },
  {
   "cell_type": "markdown",
   "metadata": {},
   "source": [
    "## what are python mathematical functions\n",
    "Python - Math Module. Some of the most popular mathematical functions are defined in the math module. These include trigonometric functions, representation functions, logarithmic functions, angle conversion functions, etc. In addition, two mathematical constants are also defined in this module."
   ]
  },
  {
   "cell_type": "markdown",
   "metadata": {},
   "source": [
    "## What is the use of math module?\n",
    "The math module is used to access mathematical functions in the Python. All methods of this functions are used for integer or real type objects, not for complex numbers. To use this module, we should import that module into our code"
   ]
  },
  {
   "cell_type": "markdown",
   "metadata": {},
   "source": [
    "## How to import math module in python\n",
    "\n",
    "You can import math module by simply using \"import math\" in your editor.\n",
    "in order to use math functions you hae to use math module"
   ]
  },
  {
   "cell_type": "markdown",
   "metadata": {},
   "source": [
    "## what is cmath in python\n",
    "cmath — Mathematical functions for complex numbers. ... They will also accept any Python object that has either a __complex__() or a __float__() method: these methods are used to convert the object to a complex or floating-point number, respectively, and the function is then applied to the result of the conversion."
   ]
  },
  {
   "cell_type": "markdown",
   "metadata": {},
   "source": [
    "## Mathematical Functions in Python | Set 1 (Numeric Functions)\n",
    "1. ceil() :- This function returns the smallest integral value greater than the number. If number is already integer, same number is returned.\n",
    "\n",
    "2. floor() :- This function returns the greatest integral value smaller than the number. If number is already integer, same number is returned."
   ]
  },
  {
   "cell_type": "code",
   "execution_count": 1,
   "metadata": {},
   "outputs": [
    {
     "name": "stdout",
     "output_type": "stream",
     "text": [
      "The ceil of 2.3 is : 3\n",
      "The floor of 2.3 is : 2\n"
     ]
    }
   ],
   "source": [
    "# Python code to demonstrate the working of \n",
    "# ceil() and floor() \n",
    "\n",
    "# importing \"math\" for mathematical operations \n",
    "import math \n",
    "\n",
    "a = 2.3\n",
    "\n",
    "# returning the ceil of 2.3 \n",
    "print (\"The ceil of 2.3 is : \", end=\"\") \n",
    "print (math.ceil(a)) \n",
    "\n",
    "# returning the floor of 2.3 \n",
    "print (\"The floor of 2.3 is : \", end=\"\") \n",
    "print (math.floor(a)) \n"
   ]
  },
  {
   "cell_type": "markdown",
   "metadata": {},
   "source": [
    "3. fabs() :- This function returns the absolute value of the number.\n",
    "\n",
    "4. factorial() :- This function returns the factorial of the number. An error message is displayed if number is not integral."
   ]
  },
  {
   "cell_type": "code",
   "execution_count": 3,
   "metadata": {},
   "outputs": [
    {
     "name": "stdout",
     "output_type": "stream",
     "text": [
      "The absolute value of -10 is : 10.0\n",
      "The factorial of 5 is : 120\n"
     ]
    }
   ],
   "source": [
    "# Python code to demonstrate the working of \n",
    "# fabs() and factorial() \n",
    "\n",
    "# importing \"math\" for mathematical operations \n",
    "import math \n",
    "\n",
    "a = -10\n",
    "\n",
    "b= 5\n",
    "\n",
    "# returning the absolute value. \n",
    "print (\"The absolute value of -10 is : \", end=\"\") \n",
    "print (math.fabs(a)) \n",
    "\n",
    "# returning the factorial of 5 \n",
    "print (\"The factorial of 5 is : \", end=\"\") \n",
    "print (math.factorial(b)) \n"
   ]
  },
  {
   "cell_type": "markdown",
   "metadata": {},
   "source": [
    "5. copysign(a, b) :- This function returns the number with the value of ‘a’ but with the sign of ‘b’. The returned value is float type.\n",
    "\n",
    "6. gcd() :- This function is used to compute the greatest common divisor of 2 numbers mentioned in its arguments. This function works in python 3.5 and above."
   ]
  },
  {
   "cell_type": "code",
   "execution_count": 4,
   "metadata": {},
   "outputs": [
    {
     "name": "stdout",
     "output_type": "stream",
     "text": [
      "The copysigned value of -10 and 5.5 is : -5.5\n",
      "The gcd of 5 and 15 is : 5\n"
     ]
    }
   ],
   "source": [
    "# Python code to demonstrate the working of \n",
    "# copysign() and gcd() \n",
    "\n",
    "# importing \"math\" for mathematical operations \n",
    "import math \n",
    "\n",
    "a = -10\n",
    "b = 5.5\n",
    "c = 15\n",
    "d = 5\n",
    "\n",
    "# returning the copysigned value. \n",
    "print (\"The copysigned value of -10 and 5.5 is : \", end=\"\") \n",
    "print (math.copysign(5.5, -10)) \n",
    "\n",
    "# returning the gcd of 15 and 5 \n",
    "print (\"The gcd of 5 and 15 is : \", end=\"\") \n",
    "print (math.gcd(5,15)) \n"
   ]
  },
  {
   "cell_type": "markdown",
   "metadata": {},
   "source": [
    "## Complex Numbers in Python | Set 2 (Important Functions and Constants)\n",
    "1. exp() :- This function returns the exponent of the complex number mentioned in its argument.\n",
    "\n",
    "2. log(x,b) :- This function returns the logarithmic value of x with the base b, both mentioned in its arguments. If base is not specified, natural log of x is returned."
   ]
  },
  {
   "cell_type": "code",
   "execution_count": 5,
   "metadata": {},
   "outputs": [
    {
     "name": "stdout",
     "output_type": "stream",
     "text": [
      "The exponent of complex number is : (1.4686939399158851+2.2873552871788423j)\n",
      "The log(base 10) of complex number is : (0.15051499783199057+0.3410940884604603j)\n"
     ]
    }
   ],
   "source": [
    "# Python code to demonstrate the working of \n",
    "# exp(), log() \n",
    "\n",
    "# importing \"cmath\" for complex number operations \n",
    "import cmath \n",
    "import math \n",
    "\n",
    "# Initializing real numbers \n",
    "x = 1.0\n",
    "y = 1.0\n",
    "\n",
    "# converting x and y into complex number \n",
    "z = complex(x, y); \n",
    "\n",
    "# printing exponent of complex number \n",
    "print (\"The exponent of complex number is : \", end=\"\") \n",
    "print (cmath.exp(z)) \n",
    "\n",
    "# printing log form of complex number \n",
    "print (\"The log(base 10) of complex number is : \", end=\"\") \n",
    "print (cmath.log(z,10)) \n"
   ]
  },
  {
   "cell_type": "markdown",
   "metadata": {},
   "source": [
    "3. log10() :- This function returns the log base 10 of a complex number.\n",
    "\n",
    "4. sqrt() :- This computes the square root of a complex number."
   ]
  },
  {
   "cell_type": "code",
   "execution_count": 6,
   "metadata": {},
   "outputs": [
    {
     "name": "stdout",
     "output_type": "stream",
     "text": [
      "The log10 of complex number is : (0.15051499783199057+0.3410940884604603j)\n",
      "The square root of complex number is : (1.09868411346781+0.45508986056222733j)\n"
     ]
    }
   ],
   "source": [
    "# Python code to demonstrate the working of \n",
    "# log10(), sqrt() \n",
    "# importing \"cmath\" for complex number operations \n",
    "import cmath \n",
    "import math \n",
    "\n",
    "# Initializing real numbers \n",
    "x = 1.0\n",
    "y = 1.0\n",
    "\n",
    "# converting x and y into complex number \n",
    "z = complex(x, y); \n",
    "\n",
    "# printing log10 of complex number \n",
    "print (\"The log10 of complex number is : \", end=\"\") \n",
    "print (cmath.log10(z)) \n",
    "\n",
    "# printing square root form of complex number \n",
    "print (\"The square root of complex number is : \", end=\"\") \n",
    "print (cmath.sqrt(z)) \n"
   ]
  },
  {
   "cell_type": "markdown",
   "metadata": {},
   "source": [
    "5. isfinite() :- Returns true if both real and imaginary part of complex number are finite, else returns false.\n",
    "\n",
    "6. isinf() :- Returns true if either real or imaginary part of complex number is/are infinite, else returns false.\n",
    "\n",
    "7. isnan() :- Returns true if either real or imaginary part of complex number is NaN , else returns false."
   ]
  },
  {
   "cell_type": "code",
   "execution_count": 7,
   "metadata": {},
   "outputs": [
    {
     "name": "stdout",
     "output_type": "stream",
     "text": [
      "Complex number is finite\n",
      "Complex number is infinite\n",
      "Complex number is NaN\n"
     ]
    }
   ],
   "source": [
    "# Python code to demonstrate the working of \n",
    "# isnan(), isinf(), isfinite() \n",
    "\n",
    "# importing \"cmath\" for complex number operations \n",
    "import cmath \n",
    "import math \n",
    "\n",
    "# Initializing real numbers \n",
    "x = 1.0\n",
    "y = 1.0\n",
    "a = math.inf \n",
    "b = math.nan \n",
    "\n",
    "# converting x and y into complex number \n",
    "z = complex(x,y); \n",
    "\n",
    "# converting x and a into complex number \n",
    "w = complex(x,a); \n",
    "\n",
    "# converting x and b into complex number \n",
    "v = complex(x,b); \n",
    "\n",
    "# checking if both numbers are finite \n",
    "if cmath.isfinite(z): \n",
    "\tprint (\"Complex number is finite\") \n",
    "else : print (\"Complex number is infinite\") \n",
    "\t\n",
    "# checking if either number is/are infinite \n",
    "if cmath.isinf(w): \n",
    "\tprint (\"Complex number is infinite\") \n",
    "else : print (\"Complex number is finite\") \n",
    "\n",
    "# checking if either number is/are infinite \n",
    "if cmath.isnan(v): \n",
    "\tprint (\"Complex number is NaN\") \n",
    "else : print (\"Complex number is not NaN\") \n"
   ]
  },
  {
   "cell_type": "markdown",
   "metadata": {},
   "source": [
    "## Mathematical Functions in Python | Set 3 (Trigonometric and Angular Functions)\n",
    "1. sin() :- This function returns the sine of value passed as argument. The value passed in this function should be in radians.\n",
    "\n",
    "2. cos() :- This function returns the cosine of value passed as argument. The value passed in this function should be in radians."
   ]
  },
  {
   "cell_type": "code",
   "execution_count": 8,
   "metadata": {},
   "outputs": [
    {
     "name": "stdout",
     "output_type": "stream",
     "text": [
      "The value of sine of pi/6 is : 0.49999999999999994\n",
      "The value of cosine of pi/6 is : 0.8660254037844387\n"
     ]
    }
   ],
   "source": [
    "# Python code to demonstrate the working of \n",
    "# sin() and cos() \n",
    "\n",
    "# importing \"math\" for mathematical operations \n",
    "import math \n",
    "\n",
    "a = math.pi/6\n",
    "\n",
    "# returning the value of sine of pi/6 \n",
    "print (\"The value of sine of pi/6 is : \", end=\"\") \n",
    "print (math.sin(a)) \n",
    "\n",
    "# returning the value of cosine of pi/6 \n",
    "print (\"The value of cosine of pi/6 is : \", end=\"\") \n",
    "print (math.cos(a)) \n"
   ]
  },
  {
   "cell_type": "markdown",
   "metadata": {},
   "source": [
    "3. tan() :- This function returns the tangent of value passed as argument. The value passed in this function should be in radians.\n",
    "\n",
    "4. hypot(a, b) :- This returns the hypotenuse of the values passed in arguments. Numerically, it returns the value of sqrt(a*a + b*b)."
   ]
  },
  {
   "cell_type": "code",
   "execution_count": 9,
   "metadata": {},
   "outputs": [
    {
     "name": "stdout",
     "output_type": "stream",
     "text": [
      "The value of tangent of pi/6 is : 0.5773502691896257\n",
      "The value of hypotenuse of 3 and 4 is : 5.0\n"
     ]
    }
   ],
   "source": [
    "# Python code to demonstrate the working of \n",
    "# tan() and hypot() \n",
    "\n",
    "# importing \"math\" for mathematical operations \n",
    "import math \n",
    "\n",
    "a = math.pi/6\n",
    "b = 3\n",
    "c = 4\n",
    "\n",
    "# returning the value of tangent of pi/6 \n",
    "print (\"The value of tangent of pi/6 is : \", end=\"\") \n",
    "print (math.tan(a)) \n",
    "\n",
    "# returning the value of hypotenuse of 3 and 4 \n",
    "print (\"The value of hypotenuse of 3 and 4 is : \", end=\"\") \n",
    "print (math.hypot(b,c)) \n"
   ]
  },
  {
   "cell_type": "markdown",
   "metadata": {},
   "source": [
    "5. degrees() :- This function is used to convert argument value from radians to degrees.\n",
    "\n",
    "6. radians() :- This function is used to convert argument value from degrees to radians."
   ]
  },
  {
   "cell_type": "code",
   "execution_count": 11,
   "metadata": {},
   "outputs": [
    {
     "name": "stdout",
     "output_type": "stream",
     "text": [
      "The converted value from radians to degrees is : 29.999999999999996\n",
      "The converted value from degrees to radians is : 0.5235987755982988\n"
     ]
    }
   ],
   "source": [
    "# Python code to demonstrate the working of \n",
    "# degrees() and radians() \n",
    "\n",
    "# importing \"math\" for mathematical operations \n",
    "import math \n",
    "\n",
    "a = math.pi/6\n",
    "b = 30\n",
    "\n",
    "# returning the converted value from radians to degrees \n",
    "print (\"The converted value from radians to degrees is : \", end=\"\") \n",
    "print (math.degrees(a)) \n",
    "\n",
    "# returning the converted value from degrees to radians \n",
    "print (\"The converted value from degrees to radians is : \", end=\"\") \n",
    "print (math.radians(b)) \n"
   ]
  },
  {
   "cell_type": "markdown",
   "metadata": {},
   "source": [
    "7.pow(x, y):-This function returns x raised to the power.\n",
    "\n",
    "8.sqrt(x):-This function returns the square root of x."
   ]
  },
  {
   "cell_type": "code",
   "execution_count": 15,
   "metadata": {},
   "outputs": [
    {
     "name": "stdout",
     "output_type": "stream",
     "text": [
      "3.0\n",
      "5.0\n",
      "4.0\n",
      "8\n"
     ]
    }
   ],
   "source": [
    "# Import math Library\n",
    "import math\n",
    "\n",
    "# Return the square root of different numbers\n",
    "print (math.sqrt(9))\n",
    "print (math.sqrt(25))\n",
    "print (math.sqrt(16))\n",
    "#pow(2,3) will give 2 to the power of 3 or 2*2*2\n",
    "x = pow(2, 3)\n",
    "\n",
    "print(x)"
   ]
  },
  {
   "cell_type": "code",
   "execution_count": null,
   "metadata": {},
   "outputs": [],
   "source": []
  }
 ],
 "metadata": {
  "kernelspec": {
   "display_name": "Python 3",
   "language": "python",
   "name": "python3"
  },
  "language_info": {
   "codemirror_mode": {
    "name": "ipython",
    "version": 3
   },
   "file_extension": ".py",
   "mimetype": "text/x-python",
   "name": "python",
   "nbconvert_exporter": "python",
   "pygments_lexer": "ipython3",
   "version": "3.6.10"
  }
 },
 "nbformat": 4,
 "nbformat_minor": 4
}
